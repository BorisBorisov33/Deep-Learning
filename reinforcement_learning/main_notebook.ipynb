{
 "cells": [
  {
   "attachments": {},
   "cell_type": "markdown",
   "metadata": {},
   "source": [
    "# Reinforcement learning \n",
    "(note: use tfenv1 env)"
   ]
  },
  {
   "cell_type": "code",
   "execution_count": 3,
   "metadata": {},
   "outputs": [],
   "source": [
    "import pandas as pd \n",
    "import numpy as np \n",
    "import matplotlib.pyplot as plt\n",
    "\n",
    "import gym"
   ]
  },
  {
   "cell_type": "code",
   "execution_count": 2,
   "metadata": {},
   "outputs": [],
   "source": [
    "import tensorflow as tf"
   ]
  },
  {
   "cell_type": "code",
   "execution_count": 4,
   "metadata": {},
   "outputs": [],
   "source": [
    "env = gym.make(\"FrozenLake-v1\")"
   ]
  },
  {
   "cell_type": "code",
   "execution_count": 8,
   "metadata": {},
   "outputs": [],
   "source": [
    "initial_state, info = env.reset()"
   ]
  },
  {
   "cell_type": "code",
   "execution_count": 9,
   "metadata": {},
   "outputs": [],
   "source": [
    "new_state, reward, truncated, terminanted, info = env.step(1)"
   ]
  },
  {
   "cell_type": "code",
   "execution_count": 10,
   "metadata": {},
   "outputs": [
    {
     "name": "stdout",
     "output_type": "stream",
     "text": [
      "4 0.0 False False {'prob': 0.3333333333333333}\n",
      "8 0.0 False False {'prob': 0.3333333333333333}\n",
      "9 0.0 False False {'prob': 0.3333333333333333}\n",
      "8 0.0 False False {'prob': 0.3333333333333333}\n",
      "12 0.0 True False {'prob': 0.3333333333333333}\n",
      "12 0 True False {'prob': 1.0}\n",
      "12 0 True False {'prob': 1.0}\n",
      "12 0 True False {'prob': 1.0}\n",
      "12 0 True False {'prob': 1.0}\n",
      "12 0 True False {'prob': 1.0}\n",
      "12 0 True False {'prob': 1.0}\n",
      "12 0 True False {'prob': 1.0}\n",
      "12 0 True False {'prob': 1.0}\n",
      "12 0 True False {'prob': 1.0}\n",
      "12 0 True False {'prob': 1.0}\n",
      "12 0 True False {'prob': 1.0}\n",
      "12 0 True False {'prob': 1.0}\n",
      "12 0 True False {'prob': 1.0}\n",
      "12 0 True False {'prob': 1.0}\n",
      "12 0 True False {'prob': 1.0}\n",
      "12 0 True False {'prob': 1.0}\n",
      "12 0 True False {'prob': 1.0}\n",
      "12 0 True False {'prob': 1.0}\n",
      "12 0 True False {'prob': 1.0}\n",
      "12 0 True False {'prob': 1.0}\n",
      "12 0 True False {'prob': 1.0}\n",
      "12 0 True False {'prob': 1.0}\n",
      "12 0 True False {'prob': 1.0}\n",
      "12 0 True False {'prob': 1.0}\n",
      "12 0 True False {'prob': 1.0}\n",
      "12 0 True False {'prob': 1.0}\n",
      "12 0 True False {'prob': 1.0}\n",
      "12 0 True False {'prob': 1.0}\n",
      "12 0 True False {'prob': 1.0}\n",
      "12 0 True False {'prob': 1.0}\n",
      "12 0 True False {'prob': 1.0}\n",
      "12 0 True False {'prob': 1.0}\n",
      "12 0 True False {'prob': 1.0}\n",
      "12 0 True False {'prob': 1.0}\n",
      "12 0 True False {'prob': 1.0}\n",
      "12 0 True False {'prob': 1.0}\n",
      "12 0 True False {'prob': 1.0}\n",
      "12 0 True False {'prob': 1.0}\n",
      "12 0 True False {'prob': 1.0}\n",
      "12 0 True False {'prob': 1.0}\n",
      "12 0 True False {'prob': 1.0}\n",
      "12 0 True False {'prob': 1.0}\n",
      "12 0 True False {'prob': 1.0}\n",
      "12 0 True False {'prob': 1.0}\n",
      "12 0 True False {'prob': 1.0}\n",
      "12 0 True False {'prob': 1.0}\n",
      "12 0 True False {'prob': 1.0}\n",
      "12 0 True False {'prob': 1.0}\n",
      "12 0 True False {'prob': 1.0}\n",
      "12 0 True False {'prob': 1.0}\n",
      "12 0 True False {'prob': 1.0}\n",
      "12 0 True False {'prob': 1.0}\n",
      "12 0 True False {'prob': 1.0}\n",
      "12 0 True False {'prob': 1.0}\n",
      "12 0 True False {'prob': 1.0}\n",
      "12 0 True False {'prob': 1.0}\n",
      "12 0 True False {'prob': 1.0}\n",
      "12 0 True False {'prob': 1.0}\n",
      "12 0 True False {'prob': 1.0}\n",
      "12 0 True False {'prob': 1.0}\n",
      "12 0 True False {'prob': 1.0}\n",
      "12 0 True False {'prob': 1.0}\n",
      "12 0 True False {'prob': 1.0}\n",
      "12 0 True False {'prob': 1.0}\n",
      "12 0 True False {'prob': 1.0}\n",
      "12 0 True False {'prob': 1.0}\n",
      "12 0 True False {'prob': 1.0}\n",
      "12 0 True False {'prob': 1.0}\n",
      "12 0 True False {'prob': 1.0}\n",
      "12 0 True False {'prob': 1.0}\n",
      "12 0 True False {'prob': 1.0}\n",
      "12 0 True False {'prob': 1.0}\n",
      "12 0 True False {'prob': 1.0}\n",
      "12 0 True False {'prob': 1.0}\n",
      "12 0 True False {'prob': 1.0}\n",
      "12 0 True False {'prob': 1.0}\n",
      "12 0 True False {'prob': 1.0}\n",
      "12 0 True False {'prob': 1.0}\n",
      "12 0 True False {'prob': 1.0}\n",
      "12 0 True False {'prob': 1.0}\n",
      "12 0 True False {'prob': 1.0}\n",
      "12 0 True False {'prob': 1.0}\n",
      "12 0 True False {'prob': 1.0}\n",
      "12 0 True False {'prob': 1.0}\n",
      "12 0 True False {'prob': 1.0}\n",
      "12 0 True False {'prob': 1.0}\n",
      "12 0 True False {'prob': 1.0}\n",
      "12 0 True False {'prob': 1.0}\n",
      "12 0 True False {'prob': 1.0}\n",
      "12 0 True False {'prob': 1.0}\n",
      "12 0 True False {'prob': 1.0}\n",
      "12 0 True False {'prob': 1.0}\n",
      "12 0 True False {'prob': 1.0}\n",
      "12 0 True False {'prob': 1.0}\n",
      "12 0 True True {'prob': 1.0}\n"
     ]
    }
   ],
   "source": [
    "initial_state, info = env.reset()\n",
    "for step_number in range(100):\n",
    "    new_state, reward, truncated, terminanted, info = env.step(1)\n",
    "    print(new_state, reward, truncated, terminanted, info)"
   ]
  },
  {
   "cell_type": "code",
   "execution_count": null,
   "metadata": {},
   "outputs": [],
   "source": []
  }
 ],
 "metadata": {
  "kernelspec": {
   "display_name": "tfenv1",
   "language": "python",
   "name": "python3"
  },
  "language_info": {
   "codemirror_mode": {
    "name": "ipython",
    "version": 3
   },
   "file_extension": ".py",
   "mimetype": "text/x-python",
   "name": "python",
   "nbconvert_exporter": "python",
   "pygments_lexer": "ipython3",
   "version": "3.8.15"
  },
  "orig_nbformat": 4,
  "vscode": {
   "interpreter": {
    "hash": "1971a20f4928bb20471ec16dd9f84366f2cd45487fe6b3210ba50ec8bff0f189"
   }
  }
 },
 "nbformat": 4,
 "nbformat_minor": 2
}
