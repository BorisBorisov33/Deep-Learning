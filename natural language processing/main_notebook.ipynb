{
 "cells": [
  {
   "attachments": {},
   "cell_type": "markdown",
   "metadata": {},
   "source": [
    "## Natural Language Processing in Deep Learning"
   ]
  },
  {
   "cell_type": "code",
   "execution_count": 43,
   "metadata": {},
   "outputs": [],
   "source": [
    "import numpy as np\n",
    "import pandas as pd\n",
    "import matplotlib.pyplot as plt\n",
    "\n",
    "import tensorflow as tf\n",
    "from tensorflow.keras.models import Sequential\n",
    "from tensorflow.keras.layers import LSTM, SimpleRNNCell,Flatten,Conv1D, SimpleRNN, Input, Dense, GRU"
   ]
  },
  {
   "cell_type": "code",
   "execution_count": 44,
   "metadata": {},
   "outputs": [],
   "source": [
    "rnn = Sequential([\n",
    "    Input(shape = (50,5)), # [batch_size, timesteps, features]\n",
    "    SimpleRNN(64,return_sequences =  True),\n",
    "    SimpleRNN(64,return_sequences =  True),\n",
    "    SimpleRNN(32,return_sequences =  True),\n",
    "    Flatten(),\n",
    "\n",
    "    Dense(42, activation = 'relu'),\n",
    "    Dense(1000,  activation = 'softmax'),\n",
    "\n",
    "])"
   ]
  },
  {
   "cell_type": "code",
   "execution_count": 45,
   "metadata": {},
   "outputs": [],
   "source": [
    "conv_model = Sequential([\n",
    "    Input(shape=(50,5)),\n",
    "    Conv1D(64,kernel_size = 3,activation = 'relu'),\n",
    "    Conv1D(64,kernel_size = 3,activation = 'relu'),\n",
    "    Conv1D(32,kernel_size = 3,activation = 'relu'),\n",
    "    Flatten(),\n",
    "    Dense(42, activation = 'relu'),\n",
    "    Dense(1000,  activation = 'softmax'),\n",
    "\n",
    "])"
   ]
  },
  {
   "cell_type": "code",
   "execution_count": 46,
   "metadata": {},
   "outputs": [
    {
     "name": "stdout",
     "output_type": "stream",
     "text": [
      "Model: \"sequential_16\"\n",
      "_________________________________________________________________\n",
      " Layer (type)                Output Shape              Param #   \n",
      "=================================================================\n",
      " simple_rnn_25 (SimpleRNN)   (None, 50, 64)            4480      \n",
      "                                                                 \n",
      " simple_rnn_26 (SimpleRNN)   (None, 50, 64)            8256      \n",
      "                                                                 \n",
      " simple_rnn_27 (SimpleRNN)   (None, 50, 32)            3104      \n",
      "                                                                 \n",
      " flatten_4 (Flatten)         (None, 1600)              0         \n",
      "                                                                 \n",
      " dense_12 (Dense)            (None, 42)                67242     \n",
      "                                                                 \n",
      " dense_13 (Dense)            (None, 1000)              43000     \n",
      "                                                                 \n",
      "=================================================================\n",
      "Total params: 126,082\n",
      "Trainable params: 126,082\n",
      "Non-trainable params: 0\n",
      "_________________________________________________________________\n"
     ]
    }
   ],
   "source": [
    "rnn.summary()"
   ]
  },
  {
   "cell_type": "code",
   "execution_count": 47,
   "metadata": {},
   "outputs": [
    {
     "name": "stdout",
     "output_type": "stream",
     "text": [
      "Model: \"sequential_17\"\n",
      "_________________________________________________________________\n",
      " Layer (type)                Output Shape              Param #   \n",
      "=================================================================\n",
      " conv1d_6 (Conv1D)           (None, 48, 64)            1024      \n",
      "                                                                 \n",
      " conv1d_7 (Conv1D)           (None, 46, 64)            12352     \n",
      "                                                                 \n",
      " conv1d_8 (Conv1D)           (None, 44, 32)            6176      \n",
      "                                                                 \n",
      " flatten_5 (Flatten)         (None, 1408)              0         \n",
      "                                                                 \n",
      " dense_14 (Dense)            (None, 42)                59178     \n",
      "                                                                 \n",
      " dense_15 (Dense)            (None, 1000)              43000     \n",
      "                                                                 \n",
      "=================================================================\n",
      "Total params: 121,730\n",
      "Trainable params: 121,730\n",
      "Non-trainable params: 0\n",
      "_________________________________________________________________\n"
     ]
    }
   ],
   "source": [
    "conv_model.summary()"
   ]
  },
  {
   "cell_type": "code",
   "execution_count": 48,
   "metadata": {},
   "outputs": [],
   "source": [
    "rnn.compile(loss='sparse_categorical_crossentropy')"
   ]
  },
  {
   "cell_type": "code",
   "execution_count": 49,
   "metadata": {},
   "outputs": [],
   "source": [
    "gru = Sequential([\n",
    "Input(shape = (50,5)),\n",
    "GRU(20)\n",
    "\n",
    "])"
   ]
  },
  {
   "cell_type": "code",
   "execution_count": 50,
   "metadata": {},
   "outputs": [
    {
     "name": "stdout",
     "output_type": "stream",
     "text": [
      "Model: \"sequential_18\"\n",
      "_________________________________________________________________\n",
      " Layer (type)                Output Shape              Param #   \n",
      "=================================================================\n",
      " gru_1 (GRU)                 (None, 20)                1620      \n",
      "                                                                 \n",
      "=================================================================\n",
      "Total params: 1,620\n",
      "Trainable params: 1,620\n",
      "Non-trainable params: 0\n",
      "_________________________________________________________________\n"
     ]
    }
   ],
   "source": [
    "gru.summary()"
   ]
  },
  {
   "cell_type": "code",
   "execution_count": 51,
   "metadata": {},
   "outputs": [],
   "source": [
    "lstm =  Sequential([\n",
    "Input(shape = (50,5)),\n",
    "LSTM(20,return_sequences = True)\n",
    "\n",
    "])"
   ]
  },
  {
   "cell_type": "code",
   "execution_count": 52,
   "metadata": {},
   "outputs": [
    {
     "name": "stdout",
     "output_type": "stream",
     "text": [
      "Model: \"sequential_19\"\n",
      "_________________________________________________________________\n",
      " Layer (type)                Output Shape              Param #   \n",
      "=================================================================\n",
      " lstm_2 (LSTM)               (None, 50, 20)            2080      \n",
      "                                                                 \n",
      "=================================================================\n",
      "Total params: 2,080\n",
      "Trainable params: 2,080\n",
      "Non-trainable params: 0\n",
      "_________________________________________________________________\n"
     ]
    }
   ],
   "source": [
    "lstm.summary()"
   ]
  },
  {
   "cell_type": "code",
   "execution_count": null,
   "metadata": {},
   "outputs": [],
   "source": []
  }
 ],
 "metadata": {
  "kernelspec": {
   "display_name": "aif360",
   "language": "python",
   "name": "python3"
  },
  "language_info": {
   "codemirror_mode": {
    "name": "ipython",
    "version": 3
   },
   "file_extension": ".py",
   "mimetype": "text/x-python",
   "name": "python",
   "nbconvert_exporter": "python",
   "pygments_lexer": "ipython3",
   "version": "3.7.13 (default, Mar 28 2022, 08:03:21) [MSC v.1916 64 bit (AMD64)]"
  },
  "orig_nbformat": 4,
  "vscode": {
   "interpreter": {
    "hash": "6a5cc2927ccf0dec671acad1788f73f379b63ab0f4b64b4fbb2594cf7c0cd06e"
   }
  }
 },
 "nbformat": 4,
 "nbformat_minor": 2
}
