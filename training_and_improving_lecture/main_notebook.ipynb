{
 "cells": [
  {
   "cell_type": "code",
   "execution_count": 11,
   "metadata": {},
   "outputs": [],
   "source": [
    "import pandas as pd\n",
    "import numpy as np\n",
    "import matplotlib.pyplot as plt\n",
    "\n",
    "import tensorflow as tf\n",
    "from tensorflow.keras.datasets import mnist\n",
    "\n",
    "from tensorflow.keras.models import Sequential\n",
    "from tensorflow.keras.layers import Input,Flatten, Dense, Dropout\n"
   ]
  },
  {
   "cell_type": "code",
   "execution_count": 2,
   "metadata": {},
   "outputs": [],
   "source": [
    "(train_attributes, train_classes),(test_attributes, test_classes) = mnist.load_data()"
   ]
  },
  {
   "cell_type": "code",
   "execution_count": 3,
   "metadata": {},
   "outputs": [
    {
     "data": {
      "text/plain": [
       "(60000, 28, 28)"
      ]
     },
     "execution_count": 3,
     "metadata": {},
     "output_type": "execute_result"
    }
   ],
   "source": [
    "train_attributes.shape"
   ]
  },
  {
   "cell_type": "code",
   "execution_count": 4,
   "metadata": {},
   "outputs": [
    {
     "data": {
      "text/plain": [
       "(10000, 28, 28)"
      ]
     },
     "execution_count": 4,
     "metadata": {},
     "output_type": "execute_result"
    }
   ],
   "source": [
    "test_attributes.shape"
   ]
  },
  {
   "cell_type": "code",
   "execution_count": 5,
   "metadata": {},
   "outputs": [],
   "source": [
    "input_shape = train_attributes[0].shape\n",
    "num_classes = len(set(train_classes))"
   ]
  },
  {
   "cell_type": "code",
   "execution_count": 12,
   "metadata": {},
   "outputs": [],
   "source": [
    "model = Sequential([\n",
    "\n",
    "    Input(input_shape),\n",
    "    Flatten(),\n",
    "    Dense(40, activation = \"relu\"),\n",
    "    Dropout(0.2),\n",
    "    Dense(30, activation = \"relu\"),\n",
    "    Dropout(0.5),\n",
    "    Dense(20, activation = \"relu\"),\n",
    "    Dense(num_classes, activation = \"softmax\")\n",
    "])"
   ]
  },
  {
   "cell_type": "code",
   "execution_count": 13,
   "metadata": {},
   "outputs": [
    {
     "name": "stdout",
     "output_type": "stream",
     "text": [
      "Model: \"sequential_1\"\n",
      "_________________________________________________________________\n",
      " Layer (type)                Output Shape              Param #   \n",
      "=================================================================\n",
      " flatten_2 (Flatten)         (None, 784)               0         \n",
      "                                                                 \n",
      " dense_5 (Dense)             (None, 40)                31400     \n",
      "                                                                 \n",
      " dropout (Dropout)           (None, 40)                0         \n",
      "                                                                 \n",
      " dense_6 (Dense)             (None, 30)                1230      \n",
      "                                                                 \n",
      " dropout_1 (Dropout)         (None, 30)                0         \n",
      "                                                                 \n",
      " dense_7 (Dense)             (None, 20)                620       \n",
      "                                                                 \n",
      " dense_8 (Dense)             (None, 10)                210       \n",
      "                                                                 \n",
      "=================================================================\n",
      "Total params: 33,460\n",
      "Trainable params: 33,460\n",
      "Non-trainable params: 0\n",
      "_________________________________________________________________\n"
     ]
    }
   ],
   "source": [
    "model.summary()"
   ]
  },
  {
   "cell_type": "code",
   "execution_count": 14,
   "metadata": {},
   "outputs": [],
   "source": [
    "model.compile(loss = \"sparse_categorical_crossentropy\", optimizer= \"adam\")"
   ]
  },
  {
   "cell_type": "code",
   "execution_count": 18,
   "metadata": {},
   "outputs": [
    {
     "name": "stdout",
     "output_type": "stream",
     "text": [
      "Epoch 1/20\n",
      "1688/1688 [==============================] - 4s 2ms/step - loss: 1.8085 - val_loss: 1.5837\n",
      "Epoch 2/20\n",
      "1688/1688 [==============================] - 4s 2ms/step - loss: 1.6506 - val_loss: 1.4365\n",
      "Epoch 3/20\n",
      "1688/1688 [==============================] - 4s 2ms/step - loss: 1.5403 - val_loss: 1.3123\n",
      "Epoch 4/20\n",
      "1688/1688 [==============================] - 4s 2ms/step - loss: 1.4741 - val_loss: 1.3087\n",
      "Epoch 5/20\n",
      "1688/1688 [==============================] - 4s 2ms/step - loss: 1.4367 - val_loss: 1.3845\n",
      "Epoch 6/20\n",
      "1688/1688 [==============================] - 4s 2ms/step - loss: 1.4126 - val_loss: 1.3718\n",
      "Epoch 7/20\n",
      "1688/1688 [==============================] - 4s 2ms/step - loss: 1.3779 - val_loss: 1.2403\n",
      "Epoch 8/20\n",
      "1688/1688 [==============================] - 4s 2ms/step - loss: 1.3302 - val_loss: 1.2322\n",
      "Epoch 9/20\n",
      "1688/1688 [==============================] - 4s 2ms/step - loss: 1.3009 - val_loss: 1.2312\n",
      "Epoch 10/20\n",
      "1688/1688 [==============================] - 4s 2ms/step - loss: 1.2869 - val_loss: 1.2534\n",
      "Epoch 11/20\n",
      "1688/1688 [==============================] - 4s 2ms/step - loss: 1.2847 - val_loss: 1.3614\n",
      "Epoch 12/20\n",
      "1688/1688 [==============================] - 4s 2ms/step - loss: 1.2707 - val_loss: 1.3101\n",
      "Epoch 13/20\n",
      "1688/1688 [==============================] - 4s 2ms/step - loss: 1.2613 - val_loss: 1.3035\n",
      "Epoch 14/20\n",
      "1688/1688 [==============================] - 4s 2ms/step - loss: 1.2469 - val_loss: 1.2292\n",
      "Epoch 15/20\n",
      "1688/1688 [==============================] - 4s 2ms/step - loss: 1.2519 - val_loss: 1.2411\n",
      "Epoch 16/20\n",
      "1688/1688 [==============================] - 4s 2ms/step - loss: 1.2390 - val_loss: 1.1344\n",
      "Epoch 17/20\n",
      "1688/1688 [==============================] - 4s 2ms/step - loss: 1.2342 - val_loss: 1.2109\n",
      "Epoch 18/20\n",
      "1688/1688 [==============================] - 4s 2ms/step - loss: 1.2326 - val_loss: 1.1366\n",
      "Epoch 19/20\n",
      "1688/1688 [==============================] - 4s 2ms/step - loss: 1.2331 - val_loss: 1.1970\n",
      "Epoch 20/20\n",
      "1688/1688 [==============================] - 4s 2ms/step - loss: 1.2310 - val_loss: 1.1568\n"
     ]
    },
    {
     "data": {
      "text/plain": [
       "<keras.callbacks.History at 0x183a93970c8>"
      ]
     },
     "execution_count": 18,
     "metadata": {},
     "output_type": "execute_result"
    }
   ],
   "source": [
    "model.fit(train_attributes,train_classes,validation_split= 0.1,epochs=20)"
   ]
  },
  {
   "cell_type": "code",
   "execution_count": 16,
   "metadata": {},
   "outputs": [],
   "source": [
    "model.layers[1].trainable = False"
   ]
  },
  {
   "cell_type": "code",
   "execution_count": 17,
   "metadata": {},
   "outputs": [
    {
     "name": "stdout",
     "output_type": "stream",
     "text": [
      "Model: \"sequential_1\"\n",
      "_________________________________________________________________\n",
      " Layer (type)                Output Shape              Param #   \n",
      "=================================================================\n",
      " flatten_2 (Flatten)         (None, 784)               0         \n",
      "                                                                 \n",
      " dense_5 (Dense)             (None, 40)                31400     \n",
      "                                                                 \n",
      " dropout (Dropout)           (None, 40)                0         \n",
      "                                                                 \n",
      " dense_6 (Dense)             (None, 30)                1230      \n",
      "                                                                 \n",
      " dropout_1 (Dropout)         (None, 30)                0         \n",
      "                                                                 \n",
      " dense_7 (Dense)             (None, 20)                620       \n",
      "                                                                 \n",
      " dense_8 (Dense)             (None, 10)                210       \n",
      "                                                                 \n",
      "=================================================================\n",
      "Total params: 33,460\n",
      "Trainable params: 2,060\n",
      "Non-trainable params: 31,400\n",
      "_________________________________________________________________\n"
     ]
    }
   ],
   "source": [
    "model.summary()"
   ]
  },
  {
   "cell_type": "code",
   "execution_count": 24,
   "metadata": {},
   "outputs": [],
   "source": [
    "new_model = Sequential([\n",
    "\n",
    "Input(shape= (20,)),\n",
    "Dense(5),\n",
    "Dense(10, kernel_initializer = tf.keras.initializers.GlorotNormal),\n",
    "Dense(2)\n",
    "\n",
    "])"
   ]
  },
  {
   "cell_type": "code",
   "execution_count": 25,
   "metadata": {},
   "outputs": [
    {
     "data": {
      "text/plain": [
       "<tf.Variable 'dense_13/kernel:0' shape=(5, 10) dtype=float32, numpy=\n",
       "array([[ 0.6257917 , -0.05082755,  0.35072932,  0.283302  , -0.19597898,\n",
       "        -0.16627538,  0.20519277,  0.08024611, -0.12515832, -0.12767196],\n",
       "       [-0.22795035, -0.13709468, -0.21917644,  0.3231728 , -0.1959801 ,\n",
       "        -0.36976027, -0.3036872 , -0.51698446, -0.22883055, -0.16345774],\n",
       "       [-0.19476084,  0.39561114, -0.08589842, -0.38752556, -0.2894159 ,\n",
       "         0.32808948,  0.66845983,  0.67898864, -0.10839267,  0.10489936],\n",
       "       [-0.6133153 , -0.26532197,  0.232171  , -0.04724125, -0.26567596,\n",
       "        -0.02544806, -0.0423646 , -0.04218255, -0.36287194, -0.04502789],\n",
       "       [ 0.54507536,  0.02624622,  0.08411184, -0.18175067,  0.51513684,\n",
       "        -0.21244565, -0.13833109, -0.1853083 ,  0.3934948 , -0.2976628 ]],\n",
       "      dtype=float32)>"
      ]
     },
     "execution_count": 25,
     "metadata": {},
     "output_type": "execute_result"
    }
   ],
   "source": [
    "new_model.layers[1].kernel"
   ]
  },
  {
   "cell_type": "code",
   "execution_count": null,
   "metadata": {},
   "outputs": [],
   "source": []
  }
 ],
 "metadata": {
  "kernelspec": {
   "display_name": "Python 3.7.13 ('aif360')",
   "language": "python",
   "name": "python3"
  },
  "language_info": {
   "codemirror_mode": {
    "name": "ipython",
    "version": 3
   },
   "file_extension": ".py",
   "mimetype": "text/x-python",
   "name": "python",
   "nbconvert_exporter": "python",
   "pygments_lexer": "ipython3",
   "version": "3.7.13"
  },
  "orig_nbformat": 4,
  "vscode": {
   "interpreter": {
    "hash": "6a5cc2927ccf0dec671acad1788f73f379b63ab0f4b64b4fbb2594cf7c0cd06e"
   }
  }
 },
 "nbformat": 4,
 "nbformat_minor": 2
}
