{
 "cells": [
  {
   "cell_type": "code",
   "execution_count": 27,
   "metadata": {},
   "outputs": [],
   "source": [
    "import pandas as pd\n",
    "import numpy as np\n",
    "import matplotlib.pyplot as plt\n",
    "\n",
    "import tensorflow as tf\n",
    "from tensorflow.keras.datasets import mnist\n",
    "\n",
    "from tensorflow.keras.models import Sequential\n",
    "from tensorflow.keras.layers import Input,Flatten, Dense, Dropout\n"
   ]
  },
  {
   "cell_type": "code",
   "execution_count": 28,
   "metadata": {},
   "outputs": [],
   "source": [
    "(train_attributes, train_classes),(test_attributes, test_classes) = mnist.load_data()"
   ]
  },
  {
   "cell_type": "code",
   "execution_count": 29,
   "metadata": {},
   "outputs": [
    {
     "data": {
      "text/plain": [
       "(60000, 28, 28)"
      ]
     },
     "execution_count": 29,
     "metadata": {},
     "output_type": "execute_result"
    }
   ],
   "source": [
    "train_attributes.shape"
   ]
  },
  {
   "cell_type": "code",
   "execution_count": 30,
   "metadata": {},
   "outputs": [
    {
     "data": {
      "text/plain": [
       "(10000, 28, 28)"
      ]
     },
     "execution_count": 30,
     "metadata": {},
     "output_type": "execute_result"
    }
   ],
   "source": [
    "test_attributes.shape"
   ]
  },
  {
   "cell_type": "code",
   "execution_count": 31,
   "metadata": {},
   "outputs": [],
   "source": [
    "input_shape = train_attributes[0].shape\n",
    "num_classes = len(set(train_classes))"
   ]
  },
  {
   "cell_type": "code",
   "execution_count": 32,
   "metadata": {},
   "outputs": [],
   "source": [
    "model = Sequential([\n",
    "\n",
    "    Input(input_shape),\n",
    "    Flatten(),\n",
    "    Dense(40, activation = \"relu\"),\n",
    "    Dropout(0.2),\n",
    "    Dense(30, activation = \"relu\"),\n",
    "    Dropout(0.5),\n",
    "    Dense(20, activation = \"relu\"),\n",
    "    Dense(num_classes, activation = \"softmax\")\n",
    "])"
   ]
  },
  {
   "cell_type": "code",
   "execution_count": 33,
   "metadata": {},
   "outputs": [
    {
     "name": "stdout",
     "output_type": "stream",
     "text": [
      "Model: \"sequential_4\"\n",
      "_________________________________________________________________\n",
      " Layer (type)                Output Shape              Param #   \n",
      "=================================================================\n",
      " flatten_3 (Flatten)         (None, 784)               0         \n",
      "                                                                 \n",
      " dense_15 (Dense)            (None, 40)                31400     \n",
      "                                                                 \n",
      " dropout_2 (Dropout)         (None, 40)                0         \n",
      "                                                                 \n",
      " dense_16 (Dense)            (None, 30)                1230      \n",
      "                                                                 \n",
      " dropout_3 (Dropout)         (None, 30)                0         \n",
      "                                                                 \n",
      " dense_17 (Dense)            (None, 20)                620       \n",
      "                                                                 \n",
      " dense_18 (Dense)            (None, 10)                210       \n",
      "                                                                 \n",
      "=================================================================\n",
      "Total params: 33,460\n",
      "Trainable params: 33,460\n",
      "Non-trainable params: 0\n",
      "_________________________________________________________________\n"
     ]
    }
   ],
   "source": [
    "model.summary()"
   ]
  },
  {
   "cell_type": "code",
   "execution_count": 34,
   "metadata": {},
   "outputs": [],
   "source": [
    "model.compile(loss = \"sparse_categorical_crossentropy\", optimizer= \"adam\")"
   ]
  },
  {
   "cell_type": "code",
   "execution_count": 35,
   "metadata": {},
   "outputs": [
    {
     "name": "stdout",
     "output_type": "stream",
     "text": [
      "Epoch 1/20\n",
      "1688/1688 [==============================] - 4s 2ms/step - loss: 2.9822 - val_loss: 2.3015\n",
      "Epoch 2/20\n",
      "1688/1688 [==============================] - 4s 2ms/step - loss: 2.3026 - val_loss: 2.3018\n",
      "Epoch 3/20\n",
      "1688/1688 [==============================] - 3s 2ms/step - loss: 2.3026 - val_loss: 2.3015\n",
      "Epoch 4/20\n",
      "1688/1688 [==============================] - 3s 2ms/step - loss: 2.2977 - val_loss: 2.2972\n",
      "Epoch 5/20\n",
      "1688/1688 [==============================] - 3s 2ms/step - loss: 2.1834 - val_loss: 2.0584\n",
      "Epoch 6/20\n",
      "1688/1688 [==============================] - 3s 2ms/step - loss: 2.0874 - val_loss: 1.9789\n",
      "Epoch 7/20\n",
      "1688/1688 [==============================] - 3s 2ms/step - loss: 1.9815 - val_loss: 1.9340\n",
      "Epoch 8/20\n",
      "1688/1688 [==============================] - 3s 2ms/step - loss: 1.9419 - val_loss: 1.8825\n",
      "Epoch 9/20\n",
      "1688/1688 [==============================] - 3s 2ms/step - loss: 1.9142 - val_loss: 1.8809\n",
      "Epoch 10/20\n",
      "1688/1688 [==============================] - 3s 2ms/step - loss: 1.8992 - val_loss: 1.8906\n",
      "Epoch 11/20\n",
      "1688/1688 [==============================] - 3s 2ms/step - loss: 1.8931 - val_loss: 1.8627\n",
      "Epoch 12/20\n",
      "1688/1688 [==============================] - 3s 2ms/step - loss: 1.8872 - val_loss: 1.9110\n",
      "Epoch 13/20\n",
      "1688/1688 [==============================] - 3s 2ms/step - loss: 1.8836 - val_loss: 1.8902\n",
      "Epoch 14/20\n",
      "1688/1688 [==============================] - 3s 2ms/step - loss: 1.8837 - val_loss: 1.9553\n",
      "Epoch 15/20\n",
      "1688/1688 [==============================] - 3s 2ms/step - loss: 1.8804 - val_loss: 1.9220\n",
      "Epoch 16/20\n",
      "1688/1688 [==============================] - 3s 2ms/step - loss: 1.8834 - val_loss: 1.9336\n",
      "Epoch 17/20\n",
      "1688/1688 [==============================] - 3s 2ms/step - loss: 1.8822 - val_loss: 1.8929\n",
      "Epoch 18/20\n",
      "1688/1688 [==============================] - 3s 2ms/step - loss: 1.8804 - val_loss: 1.9728\n",
      "Epoch 19/20\n",
      "1688/1688 [==============================] - 3s 2ms/step - loss: 1.8781 - val_loss: 1.9995\n",
      "Epoch 20/20\n",
      "1688/1688 [==============================] - 3s 2ms/step - loss: 1.8801 - val_loss: 1.9643\n"
     ]
    },
    {
     "data": {
      "text/plain": [
       "<keras.callbacks.History at 0x183a9323fc8>"
      ]
     },
     "execution_count": 35,
     "metadata": {},
     "output_type": "execute_result"
    }
   ],
   "source": [
    "model.fit(\n",
    "    train_attributes,\n",
    "    train_classes,\n",
    "    validation_split= 0.1,\n",
    "    epochs=20\n",
    "    )"
   ]
  },
  {
   "cell_type": "code",
   "execution_count": 36,
   "metadata": {},
   "outputs": [],
   "source": [
    "model.layers[1].trainable = False"
   ]
  },
  {
   "cell_type": "code",
   "execution_count": 37,
   "metadata": {},
   "outputs": [
    {
     "name": "stdout",
     "output_type": "stream",
     "text": [
      "Model: \"sequential_4\"\n",
      "_________________________________________________________________\n",
      " Layer (type)                Output Shape              Param #   \n",
      "=================================================================\n",
      " flatten_3 (Flatten)         (None, 784)               0         \n",
      "                                                                 \n",
      " dense_15 (Dense)            (None, 40)                31400     \n",
      "                                                                 \n",
      " dropout_2 (Dropout)         (None, 40)                0         \n",
      "                                                                 \n",
      " dense_16 (Dense)            (None, 30)                1230      \n",
      "                                                                 \n",
      " dropout_3 (Dropout)         (None, 30)                0         \n",
      "                                                                 \n",
      " dense_17 (Dense)            (None, 20)                620       \n",
      "                                                                 \n",
      " dense_18 (Dense)            (None, 10)                210       \n",
      "                                                                 \n",
      "=================================================================\n",
      "Total params: 33,460\n",
      "Trainable params: 2,060\n",
      "Non-trainable params: 31,400\n",
      "_________________________________________________________________\n"
     ]
    }
   ],
   "source": [
    "model.summary()"
   ]
  },
  {
   "cell_type": "code",
   "execution_count": 38,
   "metadata": {},
   "outputs": [],
   "source": [
    "new_model = Sequential([\n",
    "\n",
    "Input(shape= (20,)),\n",
    "Dense(5),\n",
    "Dense(10),\n",
    "Dense(2)\n",
    "\n",
    "])"
   ]
  },
  {
   "cell_type": "code",
   "execution_count": 39,
   "metadata": {},
   "outputs": [
    {
     "data": {
      "text/plain": [
       "<tf.Variable 'dense_20/kernel:0' shape=(5, 10) dtype=float32, numpy=\n",
       "array([[ 5.99535525e-01,  4.49125826e-01,  5.17705858e-01,\n",
       "        -2.15291768e-01, -7.00338483e-02, -5.88783503e-01,\n",
       "        -5.05962431e-01, -4.18960392e-01,  5.38283527e-01,\n",
       "         4.33086157e-02],\n",
       "       [-4.66342568e-02, -1.60227180e-01,  2.76084363e-01,\n",
       "         4.08808410e-01, -4.10215080e-01, -4.68242228e-01,\n",
       "         9.11313891e-02, -3.41204017e-01, -4.00007248e-01,\n",
       "         1.19068384e-01],\n",
       "       [-3.29080582e-01,  2.32368469e-01,  4.23871279e-02,\n",
       "         3.35815907e-01, -1.94607556e-01, -5.23127794e-01,\n",
       "        -2.48195022e-01,  5.07543504e-01, -4.24162030e-01,\n",
       "         4.62043464e-01],\n",
       "       [-1.04202628e-02,  1.73559964e-01,  2.77156174e-01,\n",
       "         4.64394748e-01, -3.67273808e-01, -3.42486501e-01,\n",
       "         3.41311693e-01,  5.78715980e-01,  2.58255005e-02,\n",
       "        -2.81337857e-01],\n",
       "       [ 4.32342589e-01, -6.03558719e-01, -5.48374414e-01,\n",
       "        -4.17144299e-01, -1.08436942e-02, -3.55765730e-01,\n",
       "        -4.77445960e-01,  6.13293588e-01, -6.08457267e-01,\n",
       "         1.29818916e-04]], dtype=float32)>"
      ]
     },
     "execution_count": 39,
     "metadata": {},
     "output_type": "execute_result"
    }
   ],
   "source": [
    "new_model.layers[1].kernel"
   ]
  },
  {
   "cell_type": "code",
   "execution_count": null,
   "metadata": {},
   "outputs": [],
   "source": []
  }
 ],
 "metadata": {
  "kernelspec": {
   "display_name": "Python 3.7.13 ('aif360')",
   "language": "python",
   "name": "python3"
  },
  "language_info": {
   "codemirror_mode": {
    "name": "ipython",
    "version": 3
   },
   "file_extension": ".py",
   "mimetype": "text/x-python",
   "name": "python",
   "nbconvert_exporter": "python",
   "pygments_lexer": "ipython3",
   "version": "3.7.13"
  },
  "orig_nbformat": 4,
  "vscode": {
   "interpreter": {
    "hash": "6a5cc2927ccf0dec671acad1788f73f379b63ab0f4b64b4fbb2594cf7c0cd06e"
   }
  }
 },
 "nbformat": 4,
 "nbformat_minor": 2
}
